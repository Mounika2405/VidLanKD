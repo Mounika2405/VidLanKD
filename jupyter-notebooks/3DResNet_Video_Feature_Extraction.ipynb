{
 "cells": [
  {
   "cell_type": "code",
   "execution_count": 10,
   "metadata": {},
   "outputs": [],
   "source": [
    "import torch\n",
    "import os"
   ]
  },
  {
   "cell_type": "code",
   "execution_count": 11,
   "metadata": {},
   "outputs": [],
   "source": [
    "os.chdir('/home/mounika.k/')"
   ]
  },
  {
   "cell_type": "code",
   "execution_count": 12,
   "metadata": {},
   "outputs": [],
   "source": [
    "checkpoint = torch.load('/ssd_scratch/users/mounika.k/r3d152_KM_200ep.pth')"
   ]
  },
  {
   "cell_type": "code",
   "execution_count": 14,
   "metadata": {
    "scrolled": true
   },
   "outputs": [
    {
     "name": "stderr",
     "output_type": "stream",
     "text": [
      "IOPub data rate exceeded.\n",
      "The notebook server will temporarily stop sending output\n",
      "to the client in order to avoid crashing it.\n",
      "To change this limit, set the config variable\n",
      "`--NotebookApp.iopub_data_rate_limit`.\n",
      "\n",
      "Current values:\n",
      "NotebookApp.iopub_data_rate_limit=1000000.0 (bytes/sec)\n",
      "NotebookApp.rate_limit_window=3.0 (secs)\n",
      "\n"
     ]
    }
   ],
   "source": [
    "print(checkpoint)"
   ]
  },
  {
   "cell_type": "code",
   "execution_count": 15,
   "metadata": {},
   "outputs": [],
   "source": [
    "import torchvision.models as models"
   ]
  },
  {
   "cell_type": "code",
   "execution_count": null,
   "metadata": {},
   "outputs": [],
   "source": [
    "models.resnext"
   ]
  },
  {
   "cell_type": "code",
   "execution_count": null,
   "metadata": {},
   "outputs": [],
   "source": [
    "model = resnext.generate_model(model_depth=opt.model_depth,\n",
    "                                       cardinality=opt.resnext_cardinality,\n",
    "                                       n_classes=opt.n_classes,\n",
    "                                       n_input_channels=opt.n_input_channels,\n",
    "                                       shortcut_type=opt.resnet_shortcut,\n",
    "                                       conv1_t_size=opt.conv1_t_size,\n",
    "                                       conv1_t_stride=opt.conv1_t_stride,\n",
    "                                       no_max_pool=opt.no_max_pool)"
   ]
  },
  {
   "cell_type": "code",
   "execution_count": null,
   "metadata": {},
   "outputs": [],
   "source": [
    "class ResNeXtBottleneck(Bottleneck):\n",
    "    expansion = 2\n",
    "\n",
    "    def __init__(self, inplanes, planes, cardinality, stride=1,\n",
    "                 downsample=None):\n",
    "        super().__init__(inplanes, planes, stride, downsample)\n",
    "\n",
    "        mid_planes = cardinality * planes // 32\n",
    "        self.conv1 = conv1x1x1(inplanes, mid_planes)\n",
    "        self.bn1 = nn.BatchNorm3d(mid_planes)\n",
    "        self.conv2 = nn.Conv3d(mid_planes,\n",
    "                               mid_planes,\n",
    "                               kernel_size=3,\n",
    "                               stride=stride,\n",
    "                               padding=1,\n",
    "                               groups=cardinality,\n",
    "                               bias=False)\n",
    "        self.bn2 = nn.BatchNorm3d(mid_planes)\n",
    "        self.conv3 = conv1x1x1(mid_planes, planes * self.expansion)\n",
    "\n",
    "\n",
    "class ResNeXt(ResNet):\n",
    "\n",
    "    def __init__(self,\n",
    "                 block,\n",
    "                 layers,\n",
    "                 block_inplanes,\n",
    "                 n_input_channels=3,\n",
    "                 conv1_t_size=7,\n",
    "                 conv1_t_stride=1,\n",
    "                 no_max_pool=False,\n",
    "                 shortcut_type='B',\n",
    "                 cardinality=32,\n",
    "                 n_classes=400):\n",
    "        block = partialclass(block, cardinality=cardinality)\n",
    "        super().__init__(block, layers, block_inplanes, n_input_channels,\n",
    "                         conv1_t_size, conv1_t_stride, no_max_pool,\n",
    "                         shortcut_type, n_classes)\n",
    "\n",
    "        self.fc = nn.Linear(cardinality * 32 * block.expansion, n_classes)\n",
    "\n",
    "\n",
    "def generate_model(model_depth, **kwargs):\n",
    "    assert model_depth in [50, 101, 152, 200]\n",
    "\n",
    "    if model_depth == 50:\n",
    "        model = ResNeXt(ResNeXtBottleneck, [3, 4, 6, 3], get_inplanes(),\n",
    "                        **kwargs)\n",
    "    elif model_depth == 101:\n",
    "        model = ResNeXt(ResNeXtBottleneck, [3, 4, 23, 3], get_inplanes(),\n",
    "                        **kwargs)\n",
    "    elif model_depth == 152:\n",
    "        model = ResNeXt(ResNeXtBottleneck, [3, 8, 36, 3], get_inplanes(),\n",
    "                        **kwargs)\n",
    "    elif model_depth == 200:\n",
    "        model = ResNeXt(ResNeXtBottleneck, [3, 24, 36, 3], get_inplanes(),\n",
    "                        **kwargs)\n",
    "\n",
    "    return model"
   ]
  },
  {
   "cell_type": "code",
   "execution_count": null,
   "metadata": {},
   "outputs": [],
   "source": []
  },
  {
   "cell_type": "code",
   "execution_count": null,
   "metadata": {},
   "outputs": [],
   "source": []
  },
  {
   "cell_type": "code",
   "execution_count": null,
   "metadata": {},
   "outputs": [],
   "source": []
  },
  {
   "cell_type": "markdown",
   "metadata": {},
   "source": [
    "<b>References</b>\n",
    "\n",
    "- https://github.com/kenshohara/3D-ResNets-PyTorch"
   ]
  },
  {
   "cell_type": "code",
   "execution_count": null,
   "metadata": {},
   "outputs": [],
   "source": []
  }
 ],
 "metadata": {
  "kernelspec": {
   "display_name": "Python 3",
   "language": "python",
   "name": "python3"
  },
  "language_info": {
   "codemirror_mode": {
    "name": "ipython",
    "version": 3
   },
   "file_extension": ".py",
   "mimetype": "text/x-python",
   "name": "python",
   "nbconvert_exporter": "python",
   "pygments_lexer": "ipython3",
   "version": "3.7.0"
  }
 },
 "nbformat": 4,
 "nbformat_minor": 4
}
